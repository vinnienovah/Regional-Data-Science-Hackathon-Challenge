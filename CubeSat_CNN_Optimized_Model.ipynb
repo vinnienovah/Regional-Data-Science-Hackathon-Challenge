{
 "cells": [
  {
   "cell_type": "code",
   "execution_count": null,
   "id": "1e78bce1-2ac7-41a3-bf25-6768a03b9665",
   "metadata": {},
   "outputs": [],
   "source": [
    "cd CubeSat_ImageClassify  "
   ]
  },
  {
   "cell_type": "markdown",
   "id": "71b51284-6263-404e-84e0-84028f716d31",
   "metadata": {},
   "source": [
    "## Loading the Dataset"
   ]
  },
  {
   "cell_type": "code",
   "execution_count": 61,
   "id": "ddad46c3-e118-4a11-ae59-30a5cb41dd86",
   "metadata": {},
   "outputs": [],
   "source": [
    "import numpy as np\n",
    "\n",
    "# Load the datasets\n",
    "train_images = np.load('data/train_images.npy')\n",
    "train_labels = np.load('data/train_labels.npy')\n"
   ]
  },
  {
   "cell_type": "markdown",
   "id": "30a6700f-b905-4e05-b607-1588ba982a72",
   "metadata": {},
   "source": [
    "## CubeSat CNN Model"
   ]
  },
  {
   "cell_type": "code",
   "execution_count": 62,
   "id": "8b065531-f6d3-4d50-9170-87e9ec3d9b79",
   "metadata": {},
   "outputs": [
    {
     "name": "stderr",
     "output_type": "stream",
     "text": [
      "/shared/venv/lib/python3.10/site-packages/keras/src/layers/convolutional/base_separable_conv.py:104: UserWarning: Do not pass an `input_shape`/`input_dim` argument to a layer. When using Sequential models, prefer using an `Input(shape)` object as the first layer in the model instead.\n",
      "  super().__init__(\n"
     ]
    },
    {
     "name": "stdout",
     "output_type": "stream",
     "text": [
      "Optimized Model defined and compiled successfully.\n",
      "Epoch 1/10\n",
      "\u001b[1m243/243\u001b[0m \u001b[32m━━━━━━━━━━━━━━━━━━━━\u001b[0m\u001b[37m\u001b[0m \u001b[1m303s\u001b[0m 1s/step - accuracy: 0.3418 - loss: 1.3930 - val_accuracy: 0.8466 - val_loss: 0.6495\n",
      "Epoch 2/10\n",
      "\u001b[1m243/243\u001b[0m \u001b[32m━━━━━━━━━━━━━━━━━━━━\u001b[0m\u001b[37m\u001b[0m \u001b[1m298s\u001b[0m 1s/step - accuracy: 0.9147 - loss: 0.4590 - val_accuracy: 0.9465 - val_loss: 0.2333\n",
      "Epoch 3/10\n",
      "\u001b[1m243/243\u001b[0m \u001b[32m━━━━━━━━━━━━━━━━━━━━\u001b[0m\u001b[37m\u001b[0m \u001b[1m320s\u001b[0m 1s/step - accuracy: 0.9755 - loss: 0.1631 - val_accuracy: 0.9840 - val_loss: 0.0873\n",
      "Epoch 4/10\n",
      "\u001b[1m243/243\u001b[0m \u001b[32m━━━━━━━━━━━━━━━━━━━━\u001b[0m\u001b[37m\u001b[0m \u001b[1m284s\u001b[0m 1s/step - accuracy: 0.9855 - loss: 0.0924 - val_accuracy: 0.9825 - val_loss: 0.1067\n",
      "Epoch 5/10\n",
      "\u001b[1m243/243\u001b[0m \u001b[32m━━━━━━━━━━━━━━━━━━━━\u001b[0m\u001b[37m\u001b[0m \u001b[1m294s\u001b[0m 1s/step - accuracy: 0.9880 - loss: 0.0703 - val_accuracy: 0.9892 - val_loss: 0.0479\n",
      "Epoch 6/10\n",
      "\u001b[1m243/243\u001b[0m \u001b[32m━━━━━━━━━━━━━━━━━━━━\u001b[0m\u001b[37m\u001b[0m \u001b[1m309s\u001b[0m 1s/step - accuracy: 0.9903 - loss: 0.0502 - val_accuracy: 0.9938 - val_loss: 0.0320\n",
      "Epoch 7/10\n",
      "\u001b[1m243/243\u001b[0m \u001b[32m━━━━━━━━━━━━━━━━━━━━\u001b[0m\u001b[37m\u001b[0m \u001b[1m297s\u001b[0m 1s/step - accuracy: 0.9928 - loss: 0.0352 - val_accuracy: 0.9866 - val_loss: 0.0406\n",
      "Epoch 8/10\n",
      "\u001b[1m243/243\u001b[0m \u001b[32m━━━━━━━━━━━━━━━━━━━━\u001b[0m\u001b[37m\u001b[0m \u001b[1m296s\u001b[0m 1s/step - accuracy: 0.9919 - loss: 0.0396 - val_accuracy: 0.9938 - val_loss: 0.0234\n",
      "Epoch 9/10\n",
      "\u001b[1m243/243\u001b[0m \u001b[32m━━━━━━━━━━━━━━━━━━━━\u001b[0m\u001b[37m\u001b[0m \u001b[1m275s\u001b[0m 1s/step - accuracy: 0.9938 - loss: 0.0282 - val_accuracy: 0.9954 - val_loss: 0.0268\n",
      "Epoch 10/10\n",
      "\u001b[1m243/243\u001b[0m \u001b[32m━━━━━━━━━━━━━━━━━━━━\u001b[0m\u001b[37m\u001b[0m \u001b[1m294s\u001b[0m 1s/step - accuracy: 0.9951 - loss: 0.0177 - val_accuracy: 0.9882 - val_loss: 0.0580\n",
      "Model training complete.\n"
     ]
    }
   ],
   "source": [
    "import tensorflow as tf\n",
    "from tensorflow.keras.models import Sequential\n",
    "from tensorflow.keras.layers import (\n",
    "    SeparableConv2D, MaxPooling2D, GlobalAveragePooling2D, Dense\n",
    ")\n",
    "from keras.utils import to_categorical\n",
    "from tensorflow.keras.callbacks import EarlyStopping\n",
    "from tensorflow.keras.optimizers import Adam\n",
    "\n",
    "# One-hot encode the labels (5 classes as required)\n",
    "train_labels = to_categorical(train_labels, num_classes=5)\n",
    "\n",
    "# Define a more efficient and lighter CNN model\n",
    "model = Sequential([\n",
    "    # Depthwise Separable Convolution\n",
    "    SeparableConv2D(8, (3, 3), activation='relu', input_shape=(256, 256, 3)),  \n",
    "    MaxPooling2D((2, 2)),\n",
    "\n",
    "    SeparableConv2D(16, (3, 3), activation='relu'),\n",
    "    MaxPooling2D((2, 2)),\n",
    "\n",
    "    SeparableConv2D(32, (3, 3), activation='relu'),\n",
    "    MaxPooling2D((2, 2)),\n",
    "\n",
    "    GlobalAveragePooling2D(),  # Reduces parameters\n",
    "    Dense(5, activation='softmax')  # Output layer adjusted for 5 classes\n",
    "])\n",
    "\n",
    "# Define an exponential decay learning rate schedule\n",
    "initial_learning_rate = 0.001\n",
    "lr_schedule = tf.keras.optimizers.schedules.ExponentialDecay(\n",
    "    initial_learning_rate=initial_learning_rate,\n",
    "    decay_steps=100000,  # Number of steps before decaying\n",
    "    decay_rate=0.96,  # Rate at which the learning rate decays\n",
    "    staircase=True  # Decays at discrete intervals\n",
    ")\n",
    "\n",
    "# Compile the model with the learning rate schedule\n",
    "optimizer = Adam(learning_rate=lr_schedule)\n",
    "model.compile(optimizer=optimizer, loss='categorical_crossentropy', metrics=['accuracy'])\n",
    "\n",
    "print(\"Optimized Model defined and compiled successfully.\")\n",
    "\n",
    "# Implement early stopping to save training time\n",
    "early_stopping = EarlyStopping(monitor='val_loss', patience=3, restore_best_weights=True)\n",
    "\n",
    "# Train the model with optimized settings\n",
    "history = model.fit(\n",
    "    train_images, train_labels,\n",
    "    epochs=10,\n",
    "    batch_size=32,  # Lowered batch size to reduce memory use\n",
    "    validation_split=0.2,  # Added validation split for better monitoring\n",
    "    callbacks=[early_stopping]  # Apply early stopping to stop training once the model stops improving\n",
    ")\n",
    "\n",
    "print(\"Model training complete.\")\n"
   ]
  },
  {
   "cell_type": "markdown",
   "id": "f1c08704-1841-4400-96e9-4f23a2464c16",
   "metadata": {},
   "source": [
    "## Explanation of Code\n",
    "\n",
    "In this code, we define and train an optimized Convolutional Neural Network (CNN) model using TensorFlow/Keras for a classification task.\n",
    "\n",
    "### Key Steps:\n",
    "\n",
    "1. **One-Hot Encoding Labels**:\n",
    "   - We convert the target labels (`train_labels`) into a one-hot encoded format suitable for multi-class classification with 5 classes.\n",
    "\n",
    "2. **Model Definition**:\n",
    "   - A **Sequential model** is defined with layers:\n",
    "     - **SeparableConv2D**: A depthwise separable convolution layer that reduces computational complexity.\n",
    "     - **MaxPooling2D**: Downsampling layer to reduce spatial dimensions.\n",
    "     - **GlobalAveragePooling2D**: Reduces the number of parameters by averaging the feature maps.\n",
    "     - **Dense**: Output layer with 5 units and softmax activation for classification.\n",
    "   \n",
    "3. **Learning Rate Scheduling**:\n",
    "   - An **ExponentialDecay** learning rate schedule is used to gradually reduce the learning rate during training, helping the model converge faster and avoid overshooting the optimal solution.\n",
    "\n",
    "4. **Model Compilation**:\n",
    "   - The model is compiled with the **Adam optimizer** and **categorical crossentropy** loss function, suitable for multi-class classification.\n",
    "\n",
    "5. **Early Stopping**:\n",
    "   - We implement **early stopping** to halt training once the model stops improving on the validation set, preventing overfitting and saving training time.\n",
    "\n",
    "6. **Model Training**:\n",
    "   - The model is trained for a maximum of 10 epochs with a **batch size of 32** and **validation split of 20%**. The early stopping callback is used to stop training early if no improvement is seen in validation loss.\n",
    "\n",
    "This setup optimizes training by improving efficiency (with separable convolutions, reduced batch size) and utilizing a dynamic learning rate and early stopping for faster convergence. \n"
   ]
  },
  {
   "cell_type": "code",
   "execution_count": 63,
   "id": "58011a98-d40c-420a-bfb1-01f4239ade98",
   "metadata": {},
   "outputs": [],
   "source": [
    "import pickle\n",
    "\n",
    "with open('cnn1_model.pkl', 'wb') as file:\n",
    "    pickle.dump(model, file)"
   ]
  },
  {
   "cell_type": "code",
   "execution_count": 64,
   "id": "e2b39f09-c142-41f7-98e2-ac01a9b7cae1",
   "metadata": {},
   "outputs": [
    {
     "name": "stdout",
     "output_type": "stream",
     "text": [
      "train_images, and train_labels removed from memory.\n"
     ]
    }
   ],
   "source": [
    "import gc\n",
    "\n",
    "# Since we will no longer need the original training data (train_images), we can remove it from memory\n",
    "del train_images, train_labels\n",
    "\n",
    "# Force garbage collection to free up memory\n",
    "gc.collect()\n",
    "\n",
    "print(\"train_images, and train_labels removed from memory.\")"
   ]
  },
  {
   "cell_type": "code",
   "execution_count": 65,
   "id": "c5cc36b5-9701-4bc6-9f14-9d8508935de1",
   "metadata": {},
   "outputs": [],
   "source": [
    "val_images = np.load('data/val_images.npy')\n",
    "val_labels = np.load('data/val_labels.npy')\n",
    "val_labels = to_categorical(val_labels, num_classes=5)"
   ]
  },
  {
   "cell_type": "code",
   "execution_count": 67,
   "id": "c1b17e8e-adc4-440c-bf35-7560e0db6b6d",
   "metadata": {},
   "outputs": [
    {
     "name": "stdout",
     "output_type": "stream",
     "text": [
      "\u001b[1m102/102\u001b[0m \u001b[32m━━━━━━━━━━━━━━━━━━━━\u001b[0m\u001b[37m\u001b[0m \u001b[1m23s\u001b[0m 220ms/step\n"
     ]
    }
   ],
   "source": [
    "with open('cnn1_model.pkl', 'rb') as file:\n",
    "    cnn1_loaded_model = pickle.load(file)\n",
    "    \n",
    "val_predictions = cnn1_loaded_model.predict(val_images)"
   ]
  },
  {
   "cell_type": "code",
   "execution_count": 68,
   "id": "463760a8-89a3-4435-a034-6b4becec5d83",
   "metadata": {},
   "outputs": [
    {
     "name": "stdout",
     "output_type": "stream",
     "text": [
      "\n",
      "Classification Report:\n",
      "              precision    recall  f1-score   support\n",
      "\n",
      "           0       0.99      0.99      0.99       727\n",
      "           1       1.00      1.00      1.00       222\n",
      "           2       1.00      1.00      1.00       421\n",
      "           3       1.00      0.99      0.99       721\n",
      "           4       1.00      1.00      1.00      1146\n",
      "\n",
      "    accuracy                           1.00      3237\n",
      "   macro avg       1.00      1.00      1.00      3237\n",
      "weighted avg       1.00      1.00      1.00      3237\n",
      "\n"
     ]
    }
   ],
   "source": [
    "from sklearn.metrics import classification_report, confusion_matrix\n",
    "\n",
    "# Convert from one-hot or probability distributions to single integer class indices\n",
    "val_predictions = np.argmax(val_predictions, axis=1) \n",
    "val_labels = np.argmax(val_labels, axis=1) \n",
    "\n",
    "\n",
    "# Detailed classification report\n",
    "print(\"\\nClassification Report:\")\n",
    "print(classification_report(val_labels, val_predictions))"
   ]
  },
  {
   "cell_type": "markdown",
   "id": "76ba2401-fefc-4533-9227-4b22883c6eaf",
   "metadata": {},
   "source": [
    "### Classification Report Explanation\n",
    "\n",
    "- **Precision**: This metric tells us how many of the predicted positive samples (true positives) are actually positive. A high precision value indicates that the model is making fewer false positive predictions.\n",
    "  \n",
    "- **Recall**: Recall measures how many of the actual positive samples are correctly identified by the model. A high recall value means the model is identifying most of the actual positive samples, minimizing false negatives.\n",
    "\n",
    "- **F1-Score**: The F1-score is the harmonic mean of precision and recall. It's a more balanced measure of a model's accuracy when there's an imbalance between precision and recall.\n",
    "\n",
    "- **Support**: This refers to the number of actual occurrences of each class in the dataset.\n",
    "\n",
    "### Key Metrics for Each Class:\n",
    "\n",
    "1. **Class 0**: \n",
    "   - Precision: 0.99, Recall: 0.99, F1-Score: 0.99 — The model is performing very well at identifying class 0 with very few false positives and false negatives.\n",
    "   - Support: 727 samples from this class.\n",
    "\n",
    "2. **Class 1**: \n",
    "   - Precision: 1.00, Recall: 1.00, F1-Score: 1.00 — Perfect performance for class 1. All samples were correctly classified.\n",
    "   - Support: 222 samples from this class.\n",
    "\n",
    "3. **Class 2**:\n",
    "   - Precision: 1.00, Recall: 1.00, F1-Score: 1.00 — Perfect performance for class 2 as well.\n",
    "   - Support: 421 samples from this class.\n",
    "\n",
    "4. **Class 3**:\n",
    "   - Precision: 1.00, Recall: 0.99, F1-Score: 0.99 — Nearly perfect performance for class 3, with a very minor decrease in recall.\n",
    "   - Support: 721 samples from this class.\n",
    "\n",
    "5. **Class 4**:\n",
    "   - Precision: 1.00, Recall: 1.00, F1-Score: 1.00 — Perfect classification for class 4.\n",
    "   - Support: 1146 samples from this class.\n",
    "\n",
    "### Overall Metrics:\n",
    "- **Accuracy**: 1.00 — The model achieved 100% accuracy across all classes, indicating that it correctly classified all 3237 samples in the dataset.\n",
    "- **Macro Average**: The average precision, recall, and F1-score across all classes, unweighted by the number of samples in each class. Here, it's 1.00, meaning the model is performing excellently across all classes.\n",
    "- **Weighted Average**: The average precision, recall, and F1-score weighted by the number of samples in each class. It's also 1.00, reinforcing the model's consistent performance.\n",
    "\n",
    "### Conclusion:\n",
    "The model is performing extremely well, with near-perfect classification across all classes, as indicated by the high precision, recall, and F1-scores. The overall accuracy, macro, and weighted averages further highlight the model's exceptional performance.\n"
   ]
  },
  {
   "cell_type": "code",
   "execution_count": 69,
   "id": "1d6cb95d-d62a-4664-a596-d96c9da154ef",
   "metadata": {},
   "outputs": [
    {
     "data": {
      "image/png": "[encoded data removed]",
      "text/plain": [
       "<Figure size 800x800 with 2 Axes>"
      ]
     },
     "metadata": {},
     "output_type": "display_data"
    }
   ],
   "source": [
    "import matplotlib.pyplot as plt\n",
    "import numpy as np\n",
    "from sklearn.metrics import confusion_matrix, ConfusionMatrixDisplay\n",
    "\n",
    "# Define class names\n",
    "class_names = [\"Blurry\", \"Corrupt\", \"Missing_Data\", \"Noisy\", \"Priority\"]\n",
    "\n",
    "# Compute the confusion matrix\n",
    "cm = confusion_matrix(val_labels, val_predictions)\n",
    "\n",
    "# Plot the confusion matrix with class names\n",
    "disp = ConfusionMatrixDisplay(confusion_matrix=cm, display_labels=class_names)\n",
    "\n",
    "# Customize and display the plot\n",
    "fig, ax = plt.subplots(figsize=(8, 8))  # Set the figure size\n",
    "disp.plot(ax=ax, cmap='Blues', xticks_rotation='vertical')  # Use a blue colormap\n",
    "plt.title(\"Confusion Matrix with Class Names\")\n",
    "plt.show()"
   ]
  },
  {
   "cell_type": "code",
   "execution_count": 70,
   "id": "6d39a9d0-1bf2-411e-a693-c1449150f4e6",
   "metadata": {},
   "outputs": [
    {
     "name": "stdout",
     "output_type": "stream",
     "text": [
      "Data removed from memory.\n"
     ]
    }
   ],
   "source": [
    "import gc\n",
    "\n",
    "# Since we will no longer need the original training data (train_images), we can remove it from memory\n",
    "del val_predictions, val_labels, val_images\n",
    "\n",
    "# Force garbage collection to free up memory\n",
    "gc.collect()\n",
    "\n",
    "%reset -f\n",
    "print(\"Data removed from memory.\")"
   ]
  },
  {
   "cell_type": "code",
   "execution_count": null,
   "id": "ba6d758e-8d90-4634-b50b-3010fa0db335",
   "metadata": {},
   "outputs": [],
   "source": []
  },
  {
   "cell_type": "code",
   "execution_count": 71,
   "id": "8bd8bf44-105d-4bdb-858c-2b4c03c6e114",
   "metadata": {},
   "outputs": [],
   "source": [
    "import numpy as np\n",
    "# first let us load the testing data\n",
    "test_images = np.load('data/test_images.npy')      # Load image test data\n",
    "test_labels = np.load('data/test_labels.npy')      # Load label test data"
   ]
  },
  {
   "cell_type": "code",
   "execution_count": 72,
   "id": "16160f28-cee5-445b-a6d9-ba1c65a8ddba",
   "metadata": {},
   "outputs": [],
   "source": [
    "def preprocessing_fn_CNN(X):  # we did not use any preprocessing in notebook 4\n",
    "\n",
    "    return X"
   ]
  },
  {
   "cell_type": "code",
   "execution_count": 73,
   "id": "b4dece02-7ba7-4050-ba6d-201b033e92f8",
   "metadata": {},
   "outputs": [],
   "source": [
    "from source.evaluate import evaluate_pipeline # A built-in function to evaluate a given ML pipeline by preprocessing, predicting, and calculating performance metrics."
   ]
  },
  {
   "cell_type": "code",
   "execution_count": 74,
   "id": "dbb9b770-3d92-4515-b339-c00e818f4c18",
   "metadata": {},
   "outputs": [],
   "source": [
    "import pickle"
   ]
  },
  {
   "cell_type": "code",
   "execution_count": 75,
   "id": "9d5b642c-273f-446f-ae03-54df323c76df",
   "metadata": {},
   "outputs": [],
   "source": [
    "from keras.utils import to_categorical\n",
    "test_labels = to_categorical(test_labels, num_classes=5)\n",
    "\n",
    "# Load the CNN model from the 4th notebook\n",
    "with open('cnn1_model.pkl', 'rb') as file:\n",
    "    cnn_model = pickle.load(file)"
   ]
  },
  {
   "cell_type": "code",
   "execution_count": 76,
   "id": "0481b6ef-0141-43b3-92e9-1eb669114569",
   "metadata": {},
   "outputs": [
    {
     "name": "stdout",
     "output_type": "stream",
     "text": [
      "\u001b[1m102/102\u001b[0m \u001b[32m━━━━━━━━━━━━━━━━━━━━\u001b[0m\u001b[37m\u001b[0m \u001b[1m23s\u001b[0m 221ms/step\n",
      "\n",
      "### Evaluation Metrics ###\n",
      "\n",
      "Evaluation Time:       44.27 seconds (The time it took for the pipeline to preprocess data and make predictions.)\n",
      "Peak Memory Usage:     9231.32 MB (The maximum memory used during evaluation.)\n",
      "Average CPU Usage:     591.39 % (The % shows how much of one CPU core was used during the evaluation.)\n",
      "Algorithm code size:         0.05 MB (The size of the trained model and preprocessing function.)\n",
      "Accuracy:              0.994 (The percentage of correctly classified samples.)\n",
      "F1 Score:              0.994 (A balance of precision and recall, useful for imbalanced datasets.)\n",
      "\n",
      "### Confusion Matrix ###\n",
      "\n"
     ]
    },
    {
     "data": {
      "image/png": "[encoded data removed]",
      "text/plain": [
       "<Figure size 1000x700 with 2 Axes>"
      ]
     },
     "metadata": {},
     "output_type": "display_data"
    }
   ],
   "source": [
    "# Evaluate the pipeline\n",
    "metrics = evaluate_pipeline(cnn_model, test_images, test_labels, preprocessing_fn_CNN)"
   ]
  },
  {
   "cell_type": "markdown",
   "id": "6e6e9a36-fe60-493e-8155-0e7db5bb0d3a",
   "metadata": {},
   "source": [
    "### Evaluation Metrics Explanation\n",
    "\n",
    "- **Evaluation Time**: \n",
    "  - **44.27 seconds** — This is the time it took for the entire evaluation process, from preprocessing the data to making predictions. It reflects how long the model took to process and evaluate the data.\n",
    "  \n",
    "- **Peak Memory Usage**:\n",
    "  - **9231.32 MB** — This is the maximum amount of memory used during evaluation. It indicates the memory consumption peak while the model was evaluating the data.\n",
    "  \n",
    "- **Average CPU Usage**:\n",
    "  - **591.39%** — This is a bit unusual because it shows how much of the CPU's capacity was used. The percentage indicates that the model utilized more than 5 full CPU cores, suggesting high parallel computation, likely because the model is processing large amounts of data simultaneously.\n",
    "  \n",
    "- **Algorithm Code Size**:\n",
    "  - **0.05 MB** — The trained model and preprocessing function are very lightweight, with a small code size, making it efficient in terms of storage.\n",
    "  \n",
    "- **Accuracy**:\n",
    "  - **0.994 (99.4%)** — This is a very high accuracy, meaning the model correctly classified 99.4% of all the samples in the dataset. It suggests the model has a strong performance overall.\n",
    "  \n",
    "- **F1 Score**:\n",
    "  - **0.994 (99.4%)** — The F1 Score balances precision and recall, providing a harmonic mean of both. With an F1 score close to 1, it indicates the model performs well in both identifying positives (precision) and capturing all positive cases (recall). This is especially useful for imbalanced datasets, showing that the model is not biased toward one class over another.\n",
    "\n",
    "### Summary:\n",
    "This model evaluation shows excellent performance with very high accuracy and F1 score, which means the model is both accurate and well-balanced in its predictions. The relatively low memory usage and efficient processing time further demonstrate the model's effectiveness and efficiency.\n"
   ]
  },
  {
   "cell_type": "code",
   "execution_count": null,
   "id": "51fb1308-053d-46c1-a31a-d705cb72b667",
   "metadata": {},
   "outputs": [],
   "source": []
  },
  {
   "cell_type": "markdown",
   "id": "56a88950-cc6e-429c-8d19-3aa8adcf359c",
   "metadata": {},
   "source": [
    "### Model Comparison Table\n",
    "\n",
    "| Metric               | Optimized Model                     | Base Model                          | What’s a Good Model?               |\n",
    "|----------------------|--------------------------------------|-------------------------------------|------------------------------------|\n",
    "| **Evaluation Time**   | 44.27 seconds                        | 265.27 seconds                      | Lower time is preferred for faster processing. Optimized model performs better here. |\n",
    "| **Peak Memory Usage** | 9231.32 MB                          | 8455.79 MB                          | Lower memory usage is ideal for efficiency. Base model uses less memory, so it’s better in this case. |\n",
    "| **Average CPU Usage** | 591.39%                             | 89.29%                              | High CPU usage can indicate better parallel processing. Optimized model uses more CPU, which may indicate a more complex process, but better performance. |\n",
    "| **Algorithm Code Size** | 0.05 MB                            | 1.16 MB                             | Smaller code size is preferred for easier deployment. Optimized model has much smaller code size. |\n",
    "| **Accuracy**          | 99.4%                                | 99.8%                               | Higher accuracy is generally better. Base model slightly outperforms the optimized model in this case. |\n",
    "| **F1 Score**          | 99.4%                                | 99.8%                               | Higher F1 score shows better balance between precision and recall. Base model slightly outperforms the optimized model here as well. |\n",
    "\n",
    "### Summary:\n",
    "- **Base Model**: It is slightly better in accuracy and F1 score, though the time taken and memory usage are higher. It's a more straightforward approach but takes longer and uses more resources.\n",
    "- **Optimized Model**: It performs faster, uses less memory, and is more efficient with smaller code size. However, it sacrifices a bit of accuracy and F1 score.\n"
   ]
  },
  {
   "cell_type": "code",
   "execution_count": null,
   "id": "3c7d837f-f538-42e9-b0b6-daa2b622adea",
   "metadata": {},
   "outputs": [],
   "source": []
  },
  {
   "cell_type": "code",
   "execution_count": null,
   "id": "46f5c636-0338-40dc-bf5f-0eb2e63c8f79",
   "metadata": {},
   "outputs": [],
   "source": [
    "!pwd"
   ]
  },
  {
   "cell_type": "code",
   "execution_count": null,
   "id": "ba53ae2d-b6af-44c3-86db-57e72840c596",
   "metadata": {},
   "outputs": [],
   "source": [
    "!ls"
   ]
  }
 ],
 "metadata": {
  "kernelspec": {
   "display_name": "Python 3 (ipykernel)",
   "language": "python",
   "name": "python3"
  },
  "language_info": {
   "codemirror_mode": {
    "name": "ipython",
    "version": 3
   },
   "file_extension": ".py",
   "mimetype": "text/x-python",
   "name": "python",
   "nbconvert_exporter": "python",
   "pygments_lexer": "ipython3",
   "version": "3.11.5"
  }
 },
 "nbformat": 4,
 "nbformat_minor": 5
}
